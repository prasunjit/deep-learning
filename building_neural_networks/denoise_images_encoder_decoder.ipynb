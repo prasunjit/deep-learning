{
 "cells": [
  {
   "cell_type": "markdown",
   "metadata": {},
   "source": [
    "## Image De-noising with Autoencoders\n"
   ]
  },
  {
   "cell_type": "markdown",
   "metadata": {},
   "source": [
    "## Project Goals\n"
   ]
  },
  {
   "cell_type": "markdown",
   "metadata": {},
   "source": [
    "Implement an autoencoder that cleans MNIST images\n",
    "\n",
    "- Design a model that accepts 784-dimensional vectors and reduces them to some small number of dimensions\n",
    "- Add more layers which increases the dimensions back to the input size.\n",
    "- Set up a training loop which feeds in noisy versions of the MNIST inputs but is rewarded for reconstructing clean versions.\n",
    "\n",
    "- Experiment with the following:\n",
    "  - Layer and bottleneck sizes\n",
    "  - Types of layers (convolutional, pooling, dropout, etc.)\n",
    "  - Training hyperparameters (epochs, batch size, etc.)\n"
   ]
  },
  {
   "cell_type": "markdown",
   "metadata": {},
   "source": [
    "## imports"
   ]
  },
  {
   "cell_type": "code",
   "execution_count": 1,
   "metadata": {},
   "outputs": [
    {
     "name": "stderr",
     "output_type": "stream",
     "text": [
      "/Users/prasunjit/deep-learning/.venv/lib/python3.11/site-packages/tqdm/auto.py:21: TqdmWarning: IProgress not found. Please update jupyter and ipywidgets. See https://ipywidgets.readthedocs.io/en/stable/user_install.html\n",
      "  from .autonotebook import tqdm as notebook_tqdm\n"
     ]
    }
   ],
   "source": [
    "import matplotlib.pyplot as plt\n",
    "import torch\n",
    "import torch.nn as nn\n",
    "import torch.optim as optim\n",
    "from torchvision import datasets, transforms\n",
    "from torchinfo import summary\n",
    "import wandb"
   ]
  },
  {
   "cell_type": "code",
   "execution_count": 2,
   "metadata": {},
   "outputs": [],
   "source": [
    "import ssl\n",
    "\n",
    "ssl._create_default_https_context = ssl._create_unverified_context"
   ]
  },
  {
   "cell_type": "markdown",
   "metadata": {},
   "source": [
    "## Wand B initialization to log"
   ]
  },
  {
   "cell_type": "code",
   "execution_count": 3,
   "metadata": {},
   "outputs": [
    {
     "name": "stderr",
     "output_type": "stream",
     "text": [
      "\u001b[34m\u001b[1mwandb\u001b[0m: Currently logged in as: \u001b[33mprasunite\u001b[0m (\u001b[33mprasunite-unemployed\u001b[0m) to \u001b[32mhttps://api.wandb.ai\u001b[0m. Use \u001b[1m`wandb login --relogin`\u001b[0m to force relogin\n"
     ]
    },
    {
     "data": {
      "text/html": [
       "Tracking run with wandb version 0.21.1"
      ],
      "text/plain": [
       "<IPython.core.display.HTML object>"
      ]
     },
     "metadata": {},
     "output_type": "display_data"
    },
    {
     "data": {
      "text/html": [
       "Run data is saved locally in <code>/Users/prasunjit/deep-learning/building_neural_networks/wandb/run-20250824_143558-vn2v9xvo</code>"
      ],
      "text/plain": [
       "<IPython.core.display.HTML object>"
      ]
     },
     "metadata": {},
     "output_type": "display_data"
    },
    {
     "data": {
      "text/html": [
       "Syncing run <strong><a href='https://wandb.ai/prasunite-unemployed/Linear%20Autoencoder/runs/vn2v9xvo' target=\"_blank\">earnest-shape-9</a></strong> to <a href='https://wandb.ai/prasunite-unemployed/Linear%20Autoencoder' target=\"_blank\">Weights & Biases</a> (<a href='https://wandb.me/developer-guide' target=\"_blank\">docs</a>)<br>"
      ],
      "text/plain": [
       "<IPython.core.display.HTML object>"
      ]
     },
     "metadata": {},
     "output_type": "display_data"
    },
    {
     "data": {
      "text/html": [
       " View project at <a href='https://wandb.ai/prasunite-unemployed/Linear%20Autoencoder' target=\"_blank\">https://wandb.ai/prasunite-unemployed/Linear%20Autoencoder</a>"
      ],
      "text/plain": [
       "<IPython.core.display.HTML object>"
      ]
     },
     "metadata": {},
     "output_type": "display_data"
    },
    {
     "data": {
      "text/html": [
       " View run at <a href='https://wandb.ai/prasunite-unemployed/Linear%20Autoencoder/runs/vn2v9xvo' target=\"_blank\">https://wandb.ai/prasunite-unemployed/Linear%20Autoencoder/runs/vn2v9xvo</a>"
      ],
      "text/plain": [
       "<IPython.core.display.HTML object>"
      ]
     },
     "metadata": {},
     "output_type": "display_data"
    },
    {
     "data": {
      "text/html": [
       "<button onClick=\"this.nextSibling.style.display='block';this.style.display='none';\">Display W&B run</button><iframe src='https://wandb.ai/prasunite-unemployed/Linear%20Autoencoder/runs/vn2v9xvo?jupyter=true' style='border:none;width:100%;height:420px;display:none;'></iframe>"
      ],
      "text/plain": [
       "<wandb.sdk.wandb_run.Run at 0x12582b810>"
      ]
     },
     "execution_count": 3,
     "metadata": {},
     "output_type": "execute_result"
    }
   ],
   "source": [
    "# Initialize W&B for Linear encoder, outside of the training loop\n",
    "wandb.init(\n",
    "    project=\"Linear Autoencoder\", \n",
    "    config={\n",
    "        \"learning_rate\": 1e-3,\n",
    "        \"epochs\": 10,\n",
    "        \"batch_size\": 64,\n",
    "        \"architecture\": \"SimpleLinearAutoencoder\",\n",
    "        \"dataset\": \"MNIST\",\n",
    "        \"noise_factor\": 0.5\n",
    "    }\n",
    ")"
   ]
  },
  {
   "cell_type": "code",
   "execution_count": 4,
   "metadata": {},
   "outputs": [
    {
     "data": {
      "text/html": [
       "Finishing previous runs because reinit is set to 'default'."
      ],
      "text/plain": [
       "<IPython.core.display.HTML object>"
      ]
     },
     "metadata": {},
     "output_type": "display_data"
    },
    {
     "name": "stderr",
     "output_type": "stream",
     "text": [
      "\u001b[34m\u001b[1mwandb\u001b[0m: \u001b[32m\u001b[41mERROR\u001b[0m The nbformat package was not found. It is required to save notebook history.\n"
     ]
    },
    {
     "data": {
      "text/html": [],
      "text/plain": [
       "<IPython.core.display.HTML object>"
      ]
     },
     "metadata": {},
     "output_type": "display_data"
    },
    {
     "data": {
      "text/html": [
       " View run <strong style=\"color:#cdcd00\">azure-elevator-7</strong> at: <a href='https://wandb.ai/prasunite-unemployed/Linear%20Autoencoder/runs/d2xmmtcy' target=\"_blank\">https://wandb.ai/prasunite-unemployed/Linear%20Autoencoder/runs/d2xmmtcy</a><br> View project at: <a href='https://wandb.ai/prasunite-unemployed/Linear%20Autoencoder' target=\"_blank\">https://wandb.ai/prasunite-unemployed/Linear%20Autoencoder</a><br>Synced 5 W&B file(s), 0 media file(s), 0 artifact file(s) and 0 other file(s)"
      ],
      "text/plain": [
       "<IPython.core.display.HTML object>"
      ]
     },
     "metadata": {},
     "output_type": "display_data"
    },
    {
     "data": {
      "text/html": [
       "Find logs at: <code>./wandb/run-20250821_164624-d2xmmtcy/logs</code>"
      ],
      "text/plain": [
       "<IPython.core.display.HTML object>"
      ]
     },
     "metadata": {},
     "output_type": "display_data"
    },
    {
     "data": {
      "text/html": [
       "Tracking run with wandb version 0.21.1"
      ],
      "text/plain": [
       "<IPython.core.display.HTML object>"
      ]
     },
     "metadata": {},
     "output_type": "display_data"
    },
    {
     "data": {
      "text/html": [
       "Run data is saved locally in <code>/Users/prasunjit/deep-learning/building_neural_networks/wandb/run-20250821_164628-8aefqgpj</code>"
      ],
      "text/plain": [
       "<IPython.core.display.HTML object>"
      ]
     },
     "metadata": {},
     "output_type": "display_data"
    },
    {
     "data": {
      "text/html": [
       "Syncing run <strong><a href='https://wandb.ai/prasunite-unemployed/Convolutional%20Denoising%20Autoencoder/runs/8aefqgpj' target=\"_blank\">usual-breeze-3</a></strong> to <a href='https://wandb.ai/prasunite-unemployed/Convolutional%20Denoising%20Autoencoder' target=\"_blank\">Weights & Biases</a> (<a href='https://wandb.me/developer-guide' target=\"_blank\">docs</a>)<br>"
      ],
      "text/plain": [
       "<IPython.core.display.HTML object>"
      ]
     },
     "metadata": {},
     "output_type": "display_data"
    },
    {
     "data": {
      "text/html": [
       " View project at <a href='https://wandb.ai/prasunite-unemployed/Convolutional%20Denoising%20Autoencoder' target=\"_blank\">https://wandb.ai/prasunite-unemployed/Convolutional%20Denoising%20Autoencoder</a>"
      ],
      "text/plain": [
       "<IPython.core.display.HTML object>"
      ]
     },
     "metadata": {},
     "output_type": "display_data"
    },
    {
     "data": {
      "text/html": [
       " View run at <a href='https://wandb.ai/prasunite-unemployed/Convolutional%20Denoising%20Autoencoder/runs/8aefqgpj' target=\"_blank\">https://wandb.ai/prasunite-unemployed/Convolutional%20Denoising%20Autoencoder/runs/8aefqgpj</a>"
      ],
      "text/plain": [
       "<IPython.core.display.HTML object>"
      ]
     },
     "metadata": {},
     "output_type": "display_data"
    },
    {
     "data": {
      "text/html": [
       "<button onClick=\"this.nextSibling.style.display='block';this.style.display='none';\">Display W&B run</button><iframe src='https://wandb.ai/prasunite-unemployed/Convolutional%20Denoising%20Autoencoder/runs/8aefqgpj?jupyter=true' style='border:none;width:100%;height:420px;display:none;'></iframe>"
      ],
      "text/plain": [
       "<wandb.sdk.wandb_run.Run at 0x11f8fd190>"
      ]
     },
     "execution_count": 4,
     "metadata": {},
     "output_type": "execute_result"
    }
   ],
   "source": [
    "wandb.init(\n",
    "    project=\"Convolutional Denoising Autoencoder\", \n",
    "    config={\n",
    "        \"learning_rate\": 1e-3,\n",
    "        \"epochs\": 10,\n",
    "        \"batch_size\": 64,\n",
    "        \"architecture\": \"ConvolutionalAutoencoder\",\n",
    "        \"dataset\": \"MNIST\",\n",
    "        \"noise_factor\": 0.5\n",
    "    }\n",
    ")"
   ]
  },
  {
   "cell_type": "code",
   "execution_count": 4,
   "metadata": {},
   "outputs": [
    {
     "name": "stdout",
     "output_type": "stream",
     "text": [
      "Using mps device\n"
     ]
    }
   ],
   "source": [
    "# Set the device to run on: GPU, MPS, or CPU\n",
    "device = torch.device(\n",
    "    \"cuda\"\n",
    "    if torch.cuda.is_available()\n",
    "    else \"mps\"\n",
    "    if torch.backends.mps.is_available()\n",
    "    else \"cpu\"\n",
    ")\n",
    "print(f\"Using {device} device\")"
   ]
  },
  {
   "cell_type": "markdown",
   "metadata": {},
   "source": [
    "## Download and set up data"
   ]
  },
  {
   "cell_type": "code",
   "execution_count": 5,
   "metadata": {},
   "outputs": [],
   "source": [
    "def setup_data_and_log_artifact():\n",
    "    \"\"\"\n",
    "    Sets up the data loaders for training and testing and logs the dataset\n",
    "    as a W&B artifact.\n",
    "    \"\"\"\n",
    "    print(\"Setting up data and logging W&B artifact...\")\n",
    "    # Define batch sizes and transformations\n",
    "    train_batch_size = 64\n",
    "    test_batch_size = 64\n",
    "\n",
    "    transform = transforms.Compose(\n",
    "        [\n",
    "            transforms.ToTensor(),\n",
    "            transforms.Normalize((0.5,), (0.5,)),\n",
    "        ]\n",
    "    )\n",
    "\n",
    "    # Load the MNIST datasets\n",
    "    trainset = datasets.MNIST(\n",
    "        \"./downloads/mnist-train\",\n",
    "        download=True,\n",
    "        train=True,\n",
    "        transform=transform,\n",
    "    )\n",
    "    testset = datasets.MNIST(\n",
    "        \"./downloads/mnist-test\",\n",
    "        download=True,\n",
    "        train=False,\n",
    "        transform=transform,\n",
    "    )\n",
    "\n",
    "    # Create the DataLoaders\n",
    "    trainloader = torch.utils.data.DataLoader(\n",
    "        trainset, batch_size=train_batch_size, shuffle=True\n",
    "    )\n",
    "    testloader = torch.utils.data.DataLoader(\n",
    "        testset, batch_size=test_batch_size, shuffle=True\n",
    "    )\n",
    "\n",
    "    # Log the dataset as a W&B artifact\n",
    "    # Note: This will create a new artifact version each time the script is run.\n",
    "    dataset_artifact = wandb.Artifact(name=\"MNIST_dataset\", type=\"dataset\")\n",
    "    dataset_artifact.add_dir(\"./downloads/mnist-train\", \"train\")\n",
    "    dataset_artifact.add_dir(\"./downloads/mnist-test\", \"test\")\n",
    "    wandb.log_artifact(dataset_artifact)\n",
    "\n",
    "    print(\"Data loaders and W&B artifact created successfully.\")\n",
    "    return trainloader, testloader"
   ]
  },
  {
   "cell_type": "markdown",
   "metadata": {},
   "source": [
    "## Define Linear enocoder model"
   ]
  },
  {
   "cell_type": "code",
   "execution_count": 6,
   "metadata": {},
   "outputs": [],
   "source": [
    "class AutoEncoder(nn.Module):\n",
    "    def __init__(self):\n",
    "        super(AutoEncoder, self).__init__()\n",
    "        # Define the encoder layers\n",
    "        self.fc1 = nn.Linear(784, 128)\n",
    "        self.fc2 = nn.Linear(128, 64)\n",
    "        self.fc3 = nn.Linear(64, 32)\n",
    "        self.dropout = nn.Dropout(0.5)\n",
    "\n",
    "        # Define the decoder layers\n",
    "        self.fc4 = nn.Linear(32, 64)\n",
    "        self.fc5 = nn.Linear(64, 128)\n",
    "        self.fc6 = nn.Linear(128, 784)\n",
    "\n",
    "    def forward(self, x):\n",
    "        # Flatten the input image\n",
    "        x = x.view(x.size(0), -1)\n",
    "        # Pass through the encoder layers\n",
    "        x = self.fc1(x)\n",
    "        x = nn.functional.relu(x)\n",
    "        x = self.fc2(x)\n",
    "        x = nn.functional.relu(x)\n",
    "        x = self.fc3(x)\n",
    "        x = self.dropout(x)\n",
    "        # Pass through the decoder layers\n",
    "        x = self.fc4(x)\n",
    "        x = nn.functional.relu(x)\n",
    "        x = self.fc5(x)\n",
    "        x = nn.functional.relu(x)\n",
    "        x = self.fc6(x)\n",
    "        # Reshape the output to match the input image shape\n",
    "        x = x.view(-1, 1, 28, 28)\n",
    "\n",
    "        return x\n",
    "\n"
   ]
  },
  {
   "cell_type": "markdown",
   "metadata": {},
   "source": [
    "## Define Conv Autoencoder model"
   ]
  },
  {
   "cell_type": "code",
   "execution_count": 7,
   "metadata": {},
   "outputs": [],
   "source": [
    "class ConvAutoEncoder(nn.Module):\n",
    "    def __init__(self):\n",
    "        super(ConvAutoEncoder, self).__init__()\n",
    "        # Encoder\n",
    "        self.encoder = nn.Sequential(\n",
    "            nn.Conv2d(1, 16, 3, padding=1),  # -> [16, 28, 28]\n",
    "            nn.ReLU(True),\n",
    "            nn.MaxPool2d(2, 2), # -> [16, 14, 14]\n",
    "            nn.Conv2d(16, 8, 3, padding=1), # -> [8, 14, 14]\n",
    "            nn.ReLU(True),\n",
    "            nn.MaxPool2d(2, 2), # -> [8, 7, 7]\n",
    "            nn.Conv2d(8, 8, 3, padding=1), # -> [8, 7, 7]\n",
    "            nn.ReLU(True),\n",
    "            nn.MaxPool2d(2, 2)  # -> [8, 3, 3]\n",
    "        )\n",
    "        # Decoder\n",
    "        self.decoder = nn.Sequential(\n",
    "            nn.ConvTranspose2d(8, 8, 2, stride=2), # -> [8, 6, 6]\n",
    "            nn.ReLU(True),\n",
    "            nn.ConvTranspose2d(8, 16, 3, stride=2, padding=1), # -> [16, 13, 13]\n",
    "            nn.ReLU(True),\n",
    "            nn.ConvTranspose2d(16, 1, 2, stride=2, padding=1), # -> [1, 28, 28]\n",
    "            nn.Tanh()\n",
    "        )\n",
    "    \n",
    "    def forward(self, x):\n",
    "        x = self.encoder(x)\n",
    "        x = self.decoder(x)\n",
    "        return x"
   ]
  },
  {
   "cell_type": "markdown",
   "metadata": {},
   "source": [
    "## Denoise images"
   ]
  },
  {
   "cell_type": "code",
   "execution_count": 7,
   "metadata": {},
   "outputs": [],
   "source": [
    "def add_noise(images, noise_factor=0.5):\n",
    "    \"\"\"\n",
    "    Adds Gaussian noise to a batch of images.\n",
    "    \n",
    "    Args:\n",
    "        images (torch.Tensor): A batch of clean images.\n",
    "        noise_factor (float): The amount of noise to add.\n",
    "        \n",
    "    Returns:\n",
    "        torch.Tensor: The batch of noisy images.\n",
    "    \"\"\"\n",
    "    noise = torch.randn(images.size(), device=images.device) * noise_factor\n",
    "    noisy_images = images + noise\n",
    "    return torch.clamp(noisy_images, 0., 1.)\n"
   ]
  },
  {
   "cell_type": "markdown",
   "metadata": {},
   "source": [
    "## Visualize the images"
   ]
  },
  {
   "cell_type": "code",
   "execution_count": 8,
   "metadata": {},
   "outputs": [],
   "source": [
    "def visualize_denoising(model, dataloader, device, noise_factor, num_images=5):\n",
    "    \"\"\"\n",
    "    Visualizes the denoising process on a few test images.\n",
    "    \n",
    "    Args:\n",
    "        model (nn.Module): The trained autoencoder model.\n",
    "        dataloader (DataLoader): A dataloader for the test set.\n",
    "        device (torch.device): The device (GPU or CPU) to run the model on.\n",
    "        noise_factor (float): The noise factor used for training.\n",
    "        num_images (int): The number of images to visualize.\n",
    "    \"\"\"\n",
    "    # Set the model to evaluation mode\n",
    "    model.eval()\n",
    "    \n",
    "    # Get a batch of images from the test set\n",
    "    images, _ = next(iter(dataloader))\n",
    "    images = images[:num_images].to(device)\n",
    "\n",
    "    # Create noisy versions and get the reconstructed images\n",
    "    noisy_images = add_noise(images, noise_factor=noise_factor)\n",
    "    with torch.no_grad():\n",
    "        reconstructed_images = model(noisy_images)\n",
    "\n",
    "    # Plotting\n",
    "    fig, axes = plt.subplots(3, num_images, figsize=(15, 6))\n",
    "\n",
    "    for i in range(num_images):\n",
    "        # Original clean image\n",
    "        axes[0, i].imshow(images[i].cpu().squeeze(), cmap='gray')\n",
    "        axes[0, i].axis('off')\n",
    "        if i == 0:\n",
    "            axes[0, i].set_title('Original', fontsize=12)\n",
    "\n",
    "        # Noisy input image\n",
    "        axes[1, i].imshow(noisy_images[i].cpu().squeeze(), cmap='gray')\n",
    "        axes[1, i].axis('off')\n",
    "        if i == 0:\n",
    "            axes[1, i].set_title('Noisy Input', fontsize=12)\n",
    "\n",
    "        # Reconstructed output image\n",
    "        axes[2, i].imshow(reconstructed_images[i].cpu().squeeze(), cmap='gray')\n",
    "        axes[2, i].axis('off')\n",
    "        if i == 0:\n",
    "            axes[2, i].set_title('Reconstructed', fontsize=12)\n",
    "\n",
    "    plt.suptitle(\"Denoising Autoencoder Results\", fontsize=16)\n",
    "    plt.tight_layout(rect=[0, 0.03, 1, 0.95])\n",
    "\n",
    "    # Log the plot to W&B\n",
    "    wandb.log({\"denoising_visualization\": wandb.Image(fig)})\n",
    "\n",
    "    # Show the plot\n",
    "    plt.show()\n",
    "    plt.close(fig)"
   ]
  },
  {
   "cell_type": "markdown",
   "metadata": {},
   "source": [
    "## Model training"
   ]
  },
  {
   "cell_type": "code",
   "execution_count": 9,
   "metadata": {},
   "outputs": [],
   "source": [
    "\n",
    "# Define the training function\n",
    "def train(model, trainloader, testloader, loss_fn, optimizer, device):\n",
    "    model.train()\n",
    "    for epoch in range(wandb.config.epochs):\n",
    "        total_train_loss = 0.0\n",
    "        # Iterate over the training data\n",
    "        for images, _ in trainloader:\n",
    "            images = images.view(images.shape[0], 1, 28, 28).to(device)\n",
    "            # Move images to the correct device\n",
    "            images = images.to(device)\n",
    "            # Create a noisy version of the images\n",
    "            noisy_images = add_noise(images, noise_factor=wandb.config.noise_factor)\n",
    "            # Reset gradients\n",
    "            optimizer.zero_grad()\n",
    "            # Forward pass\n",
    "            reconstructed_images = model(noisy_images)\n",
    "            # Calculate loss\n",
    "            loss = loss_fn(reconstructed_images, images)\n",
    "            # Backward pass (backpropagation)\n",
    "            loss.backward()\n",
    "            # Update weights\n",
    "            optimizer.step()\n",
    "            total_train_loss += loss.item()\n",
    "        # Log the loss for the current batch\n",
    "        avg_train_loss = total_train_loss / len(trainloader)\n",
    "\n",
    "        # Validation Phase\n",
    "        model.eval()  # Set model to evaluation mode\n",
    "        total_val_loss = 0.0\n",
    "        with torch.no_grad():  # Disable gradient calculation for validation\n",
    "            for images, _ in testloader:\n",
    "                images = images.to(device)\n",
    "                noisy_images = add_noise(images, noise_factor=wandb.config.noise_factor)\n",
    "                reconstructed_images = model(noisy_images)\n",
    "                loss = loss_fn(reconstructed_images, images)\n",
    "                total_val_loss += loss.item()\n",
    "        # Calculate average validation loss\n",
    "        avg_val_loss = total_val_loss / len(testloader)\n",
    "\n",
    "        # Log both training and validation loss to W&B\n",
    "        wandb.log({\"train_loss\": avg_train_loss, \"val_loss\": avg_val_loss, \"epoch\": epoch + 1})\n",
    "        print(f\"Epoch [{epoch+1}/{wandb.config.epochs}], Train Loss: {avg_train_loss:.4f}, Val Loss: {avg_val_loss:.4f}\")\n",
    "    \n",
    "    # 5. Visualize the results on the test set\n",
    "    print(\"Training finished. Visualizing results...\")\n",
    "    visualize_denoising(model, testloader, device, wandb.config.noise_factor, num_images=5)\n",
    "\n",
    "    "
   ]
  },
  {
   "cell_type": "markdown",
   "metadata": {},
   "source": [
    "## --- Main Execution for Notebooks ---"
   ]
  },
  {
   "cell_type": "code",
   "execution_count": 10,
   "metadata": {},
   "outputs": [
    {
     "name": "stdout",
     "output_type": "stream",
     "text": [
      "Setting up data and logging W&B artifact...\n"
     ]
    },
    {
     "name": "stderr",
     "output_type": "stream",
     "text": [
      "\u001b[34m\u001b[1mwandb\u001b[0m: Adding directory to artifact (./downloads/mnist-train)... Done. 0.3s\n",
      "\u001b[34m\u001b[1mwandb\u001b[0m: Adding directory to artifact (./downloads/mnist-test)... Done. 0.2s\n"
     ]
    },
    {
     "name": "stdout",
     "output_type": "stream",
     "text": [
      "Data loaders and W&B artifact created successfully.\n",
      "Number of training batches: 938\n",
      "Number of test batches: 157\n",
      "(tensor([[[-1.0000, -1.0000, -1.0000, -1.0000, -1.0000, -1.0000, -1.0000,\n",
      "          -1.0000, -1.0000, -1.0000, -1.0000, -1.0000, -1.0000, -1.0000,\n",
      "          -1.0000, -1.0000, -1.0000, -1.0000, -1.0000, -1.0000, -1.0000,\n",
      "          -1.0000, -1.0000, -1.0000, -1.0000, -1.0000, -1.0000, -1.0000],\n",
      "         [-1.0000, -1.0000, -1.0000, -1.0000, -1.0000, -1.0000, -1.0000,\n",
      "          -1.0000, -1.0000, -1.0000, -1.0000, -1.0000, -1.0000, -1.0000,\n",
      "          -1.0000, -1.0000, -1.0000, -1.0000, -1.0000, -1.0000, -1.0000,\n",
      "          -1.0000, -1.0000, -1.0000, -1.0000, -1.0000, -1.0000, -1.0000],\n",
      "         [-1.0000, -1.0000, -1.0000, -1.0000, -1.0000, -1.0000, -1.0000,\n",
      "          -1.0000, -1.0000, -1.0000, -1.0000, -1.0000, -1.0000, -1.0000,\n",
      "          -1.0000, -1.0000, -1.0000, -1.0000, -1.0000, -1.0000, -1.0000,\n",
      "          -1.0000, -1.0000, -1.0000, -1.0000, -1.0000, -1.0000, -1.0000],\n",
      "         [-1.0000, -1.0000, -1.0000, -1.0000, -1.0000, -1.0000, -1.0000,\n",
      "          -1.0000, -1.0000, -1.0000, -1.0000, -1.0000, -1.0000, -1.0000,\n",
      "          -1.0000, -1.0000, -1.0000, -1.0000, -1.0000, -1.0000, -1.0000,\n",
      "          -1.0000, -1.0000, -1.0000, -1.0000, -1.0000, -1.0000, -1.0000],\n",
      "         [-1.0000, -1.0000, -1.0000, -1.0000, -1.0000, -1.0000, -1.0000,\n",
      "          -1.0000, -1.0000, -1.0000, -1.0000, -1.0000, -1.0000, -1.0000,\n",
      "          -1.0000, -1.0000, -1.0000, -1.0000, -1.0000, -1.0000, -1.0000,\n",
      "          -1.0000, -1.0000, -1.0000, -1.0000, -1.0000, -1.0000, -1.0000],\n",
      "         [-1.0000, -1.0000, -1.0000, -1.0000, -1.0000, -1.0000, -1.0000,\n",
      "          -1.0000, -1.0000, -1.0000, -1.0000, -1.0000, -0.9765, -0.8588,\n",
      "          -0.8588, -0.8588, -0.0118,  0.0667,  0.3725, -0.7961,  0.3020,\n",
      "           1.0000,  0.9373, -0.0039, -1.0000, -1.0000, -1.0000, -1.0000],\n",
      "         [-1.0000, -1.0000, -1.0000, -1.0000, -1.0000, -1.0000, -1.0000,\n",
      "          -1.0000, -0.7647, -0.7176, -0.2627,  0.2078,  0.3333,  0.9843,\n",
      "           0.9843,  0.9843,  0.9843,  0.9843,  0.7647,  0.3490,  0.9843,\n",
      "           0.8980,  0.5294, -0.4980, -1.0000, -1.0000, -1.0000, -1.0000],\n",
      "         [-1.0000, -1.0000, -1.0000, -1.0000, -1.0000, -1.0000, -1.0000,\n",
      "          -0.6157,  0.8667,  0.9843,  0.9843,  0.9843,  0.9843,  0.9843,\n",
      "           0.9843,  0.9843,  0.9843,  0.9686, -0.2706, -0.3569, -0.3569,\n",
      "          -0.5608, -0.6941, -1.0000, -1.0000, -1.0000, -1.0000, -1.0000],\n",
      "         [-1.0000, -1.0000, -1.0000, -1.0000, -1.0000, -1.0000, -1.0000,\n",
      "          -0.8588,  0.7176,  0.9843,  0.9843,  0.9843,  0.9843,  0.9843,\n",
      "           0.5529,  0.4275,  0.9373,  0.8902, -1.0000, -1.0000, -1.0000,\n",
      "          -1.0000, -1.0000, -1.0000, -1.0000, -1.0000, -1.0000, -1.0000],\n",
      "         [-1.0000, -1.0000, -1.0000, -1.0000, -1.0000, -1.0000, -1.0000,\n",
      "          -1.0000, -0.3725,  0.2235, -0.1608,  0.9843,  0.9843,  0.6078,\n",
      "          -0.9137, -1.0000, -0.6627,  0.2078, -1.0000, -1.0000, -1.0000,\n",
      "          -1.0000, -1.0000, -1.0000, -1.0000, -1.0000, -1.0000, -1.0000],\n",
      "         [-1.0000, -1.0000, -1.0000, -1.0000, -1.0000, -1.0000, -1.0000,\n",
      "          -1.0000, -1.0000, -0.8902, -0.9922,  0.2078,  0.9843, -0.2941,\n",
      "          -1.0000, -1.0000, -1.0000, -1.0000, -1.0000, -1.0000, -1.0000,\n",
      "          -1.0000, -1.0000, -1.0000, -1.0000, -1.0000, -1.0000, -1.0000],\n",
      "         [-1.0000, -1.0000, -1.0000, -1.0000, -1.0000, -1.0000, -1.0000,\n",
      "          -1.0000, -1.0000, -1.0000, -1.0000,  0.0902,  0.9843,  0.4902,\n",
      "          -0.9843, -1.0000, -1.0000, -1.0000, -1.0000, -1.0000, -1.0000,\n",
      "          -1.0000, -1.0000, -1.0000, -1.0000, -1.0000, -1.0000, -1.0000],\n",
      "         [-1.0000, -1.0000, -1.0000, -1.0000, -1.0000, -1.0000, -1.0000,\n",
      "          -1.0000, -1.0000, -1.0000, -1.0000, -0.9137,  0.4902,  0.9843,\n",
      "          -0.4510, -1.0000, -1.0000, -1.0000, -1.0000, -1.0000, -1.0000,\n",
      "          -1.0000, -1.0000, -1.0000, -1.0000, -1.0000, -1.0000, -1.0000],\n",
      "         [-1.0000, -1.0000, -1.0000, -1.0000, -1.0000, -1.0000, -1.0000,\n",
      "          -1.0000, -1.0000, -1.0000, -1.0000, -1.0000, -0.7255,  0.8902,\n",
      "           0.7647,  0.2549, -0.1529, -0.9922, -1.0000, -1.0000, -1.0000,\n",
      "          -1.0000, -1.0000, -1.0000, -1.0000, -1.0000, -1.0000, -1.0000],\n",
      "         [-1.0000, -1.0000, -1.0000, -1.0000, -1.0000, -1.0000, -1.0000,\n",
      "          -1.0000, -1.0000, -1.0000, -1.0000, -1.0000, -1.0000, -0.3647,\n",
      "           0.8824,  0.9843,  0.9843, -0.0667, -0.8039, -1.0000, -1.0000,\n",
      "          -1.0000, -1.0000, -1.0000, -1.0000, -1.0000, -1.0000, -1.0000],\n",
      "         [-1.0000, -1.0000, -1.0000, -1.0000, -1.0000, -1.0000, -1.0000,\n",
      "          -1.0000, -1.0000, -1.0000, -1.0000, -1.0000, -1.0000, -1.0000,\n",
      "          -0.6471,  0.4588,  0.9843,  0.9843,  0.1765, -0.7882, -1.0000,\n",
      "          -1.0000, -1.0000, -1.0000, -1.0000, -1.0000, -1.0000, -1.0000],\n",
      "         [-1.0000, -1.0000, -1.0000, -1.0000, -1.0000, -1.0000, -1.0000,\n",
      "          -1.0000, -1.0000, -1.0000, -1.0000, -1.0000, -1.0000, -1.0000,\n",
      "          -1.0000, -0.8745, -0.2706,  0.9765,  0.9843,  0.4667, -1.0000,\n",
      "          -1.0000, -1.0000, -1.0000, -1.0000, -1.0000, -1.0000, -1.0000],\n",
      "         [-1.0000, -1.0000, -1.0000, -1.0000, -1.0000, -1.0000, -1.0000,\n",
      "          -1.0000, -1.0000, -1.0000, -1.0000, -1.0000, -1.0000, -1.0000,\n",
      "          -1.0000, -1.0000, -1.0000,  0.9529,  0.9843,  0.9529, -0.4980,\n",
      "          -1.0000, -1.0000, -1.0000, -1.0000, -1.0000, -1.0000, -1.0000],\n",
      "         [-1.0000, -1.0000, -1.0000, -1.0000, -1.0000, -1.0000, -1.0000,\n",
      "          -1.0000, -1.0000, -1.0000, -1.0000, -1.0000, -1.0000, -1.0000,\n",
      "          -0.6392,  0.0196,  0.4353,  0.9843,  0.9843,  0.6235, -0.9843,\n",
      "          -1.0000, -1.0000, -1.0000, -1.0000, -1.0000, -1.0000, -1.0000],\n",
      "         [-1.0000, -1.0000, -1.0000, -1.0000, -1.0000, -1.0000, -1.0000,\n",
      "          -1.0000, -1.0000, -1.0000, -1.0000, -1.0000, -0.6941,  0.1608,\n",
      "           0.7961,  0.9843,  0.9843,  0.9843,  0.9608,  0.4275, -1.0000,\n",
      "          -1.0000, -1.0000, -1.0000, -1.0000, -1.0000, -1.0000, -1.0000],\n",
      "         [-1.0000, -1.0000, -1.0000, -1.0000, -1.0000, -1.0000, -1.0000,\n",
      "          -1.0000, -1.0000, -1.0000, -0.8118, -0.1059,  0.7333,  0.9843,\n",
      "           0.9843,  0.9843,  0.9843,  0.5765, -0.3882, -1.0000, -1.0000,\n",
      "          -1.0000, -1.0000, -1.0000, -1.0000, -1.0000, -1.0000, -1.0000],\n",
      "         [-1.0000, -1.0000, -1.0000, -1.0000, -1.0000, -1.0000, -1.0000,\n",
      "          -1.0000, -0.8196, -0.4824,  0.6706,  0.9843,  0.9843,  0.9843,\n",
      "           0.9843,  0.5529, -0.3647, -0.9843, -1.0000, -1.0000, -1.0000,\n",
      "          -1.0000, -1.0000, -1.0000, -1.0000, -1.0000, -1.0000, -1.0000],\n",
      "         [-1.0000, -1.0000, -1.0000, -1.0000, -1.0000, -1.0000, -0.8588,\n",
      "           0.3412,  0.7176,  0.9843,  0.9843,  0.9843,  0.9843,  0.5294,\n",
      "          -0.3725, -0.9294, -1.0000, -1.0000, -1.0000, -1.0000, -1.0000,\n",
      "          -1.0000, -1.0000, -1.0000, -1.0000, -1.0000, -1.0000, -1.0000],\n",
      "         [-1.0000, -1.0000, -1.0000, -1.0000, -0.5686,  0.3490,  0.7725,\n",
      "           0.9843,  0.9843,  0.9843,  0.9843,  0.9137,  0.0431, -0.9137,\n",
      "          -1.0000, -1.0000, -1.0000, -1.0000, -1.0000, -1.0000, -1.0000,\n",
      "          -1.0000, -1.0000, -1.0000, -1.0000, -1.0000, -1.0000, -1.0000],\n",
      "         [-1.0000, -1.0000, -1.0000, -1.0000,  0.0667,  0.9843,  0.9843,\n",
      "           0.9843,  0.6627,  0.0588,  0.0353, -0.8745, -1.0000, -1.0000,\n",
      "          -1.0000, -1.0000, -1.0000, -1.0000, -1.0000, -1.0000, -1.0000,\n",
      "          -1.0000, -1.0000, -1.0000, -1.0000, -1.0000, -1.0000, -1.0000],\n",
      "         [-1.0000, -1.0000, -1.0000, -1.0000, -1.0000, -1.0000, -1.0000,\n",
      "          -1.0000, -1.0000, -1.0000, -1.0000, -1.0000, -1.0000, -1.0000,\n",
      "          -1.0000, -1.0000, -1.0000, -1.0000, -1.0000, -1.0000, -1.0000,\n",
      "          -1.0000, -1.0000, -1.0000, -1.0000, -1.0000, -1.0000, -1.0000],\n",
      "         [-1.0000, -1.0000, -1.0000, -1.0000, -1.0000, -1.0000, -1.0000,\n",
      "          -1.0000, -1.0000, -1.0000, -1.0000, -1.0000, -1.0000, -1.0000,\n",
      "          -1.0000, -1.0000, -1.0000, -1.0000, -1.0000, -1.0000, -1.0000,\n",
      "          -1.0000, -1.0000, -1.0000, -1.0000, -1.0000, -1.0000, -1.0000],\n",
      "         [-1.0000, -1.0000, -1.0000, -1.0000, -1.0000, -1.0000, -1.0000,\n",
      "          -1.0000, -1.0000, -1.0000, -1.0000, -1.0000, -1.0000, -1.0000,\n",
      "          -1.0000, -1.0000, -1.0000, -1.0000, -1.0000, -1.0000, -1.0000,\n",
      "          -1.0000, -1.0000, -1.0000, -1.0000, -1.0000, -1.0000, -1.0000]]]), 5)\n",
      "torch.Size([1, 28, 28])\n",
      "Epoch [1/10], Train Loss: 0.2185, Val Loss: 0.1461\n",
      "Epoch [2/10], Train Loss: 0.1203, Val Loss: 0.1020\n",
      "Epoch [3/10], Train Loss: 0.0949, Val Loss: 0.0870\n",
      "Epoch [4/10], Train Loss: 0.0842, Val Loss: 0.0793\n",
      "Epoch [5/10], Train Loss: 0.0781, Val Loss: 0.0746\n",
      "Epoch [6/10], Train Loss: 0.0743, Val Loss: 0.0714\n",
      "Epoch [7/10], Train Loss: 0.0710, Val Loss: 0.0683\n",
      "Epoch [8/10], Train Loss: 0.0683, Val Loss: 0.0660\n",
      "Epoch [9/10], Train Loss: 0.0663, Val Loss: 0.0644\n",
      "Epoch [10/10], Train Loss: 0.0646, Val Loss: 0.0631\n",
      "Training finished. Visualizing results...\n"
     ]
    },
    {
     "data": {
      "image/png": "[encoded data removed]",
      "text/plain": [
       "<Figure size 1500x600 with 15 Axes>"
      ]
     },
     "metadata": {},
     "output_type": "display_data"
    },
    {
     "name": "stderr",
     "output_type": "stream",
     "text": [
      "\u001b[34m\u001b[1mwandb\u001b[0m: \u001b[32m\u001b[41mERROR\u001b[0m The nbformat package was not found. It is required to save notebook history.\n"
     ]
    },
    {
     "data": {
      "text/html": [],
      "text/plain": [
       "<IPython.core.display.HTML object>"
      ]
     },
     "metadata": {},
     "output_type": "display_data"
    },
    {
     "data": {
      "text/html": [
       "<br>    <style><br>        .wandb-row {<br>            display: flex;<br>            flex-direction: row;<br>            flex-wrap: wrap;<br>            justify-content: flex-start;<br>            width: 100%;<br>        }<br>        .wandb-col {<br>            display: flex;<br>            flex-direction: column;<br>            flex-basis: 100%;<br>            flex: 1;<br>            padding: 10px;<br>        }<br>    </style><br><div class=\"wandb-row\"><div class=\"wandb-col\"><h3>Run history:</h3><br/><table class=\"wandb\"><tr><td>epoch</td><td>▁▂▃▃▄▅▆▆▇█</td></tr><tr><td>train_loss</td><td>█▄▂▂▂▁▁▁▁▁</td></tr><tr><td>val_loss</td><td>█▄▃▂▂▂▁▁▁▁</td></tr></table><br/></div><div class=\"wandb-col\"><h3>Run summary:</h3><br/><table class=\"wandb\"><tr><td>epoch</td><td>10</td></tr><tr><td>train_loss</td><td>0.0646</td></tr><tr><td>val_loss</td><td>0.06309</td></tr></table><br/></div></div>"
      ],
      "text/plain": [
       "<IPython.core.display.HTML object>"
      ]
     },
     "metadata": {},
     "output_type": "display_data"
    },
    {
     "data": {
      "text/html": [
       " View run <strong style=\"color:#cdcd00\">earnest-shape-9</strong> at: <a href='https://wandb.ai/prasunite-unemployed/Linear%20Autoencoder/runs/vn2v9xvo' target=\"_blank\">https://wandb.ai/prasunite-unemployed/Linear%20Autoencoder/runs/vn2v9xvo</a><br> View project at: <a href='https://wandb.ai/prasunite-unemployed/Linear%20Autoencoder' target=\"_blank\">https://wandb.ai/prasunite-unemployed/Linear%20Autoencoder</a><br>Synced 5 W&B file(s), 1 media file(s), 0 artifact file(s) and 0 other file(s)"
      ],
      "text/plain": [
       "<IPython.core.display.HTML object>"
      ]
     },
     "metadata": {},
     "output_type": "display_data"
    },
    {
     "data": {
      "text/html": [
       "Find logs at: <code>./wandb/run-20250824_143558-vn2v9xvo/logs</code>"
      ],
      "text/plain": [
       "<IPython.core.display.HTML object>"
      ]
     },
     "metadata": {},
     "output_type": "display_data"
    }
   ],
   "source": [
    "\n",
    "trainloader, testloader = setup_data_and_log_artifact()\n",
    "print(f\"Number of training batches: {len(trainloader)}\")\n",
    "print(f\"Number of test batches: {len(testloader)}\")\n",
    "single_image = trainloader.dataset[0]\n",
    "print(single_image)\n",
    "print(single_image[0].shape)\n",
    "\n",
    "model = AutoEncoder().to(device)\n",
    "# print(\"Model summary:\")\n",
    "# summary(model, input_size=(1, 1, 28, 28))\n",
    "wandb.watch(model, log=\"all\", log_freq=100) \n",
    "\n",
    "loss_fn = nn.MSELoss()\n",
    "optimizer = optim.Adam(model.parameters(), lr=wandb.config.learning_rate)\n",
    "\n",
    "train(model, trainloader, testloader, loss_fn, optimizer, device)\n",
    "\n",
    "wandb.finish()\n"
   ]
  }
 ],
 "metadata": {
  "kernelspec": {
   "display_name": "deep-learning",
   "language": "python",
   "name": "python3"
  },
  "language_info": {
   "codemirror_mode": {
    "name": "ipython",
    "version": 3
   },
   "file_extension": ".py",
   "mimetype": "text/x-python",
   "name": "python",
   "nbconvert_exporter": "python",
   "pygments_lexer": "ipython3",
   "version": "3.11.9"
  }
 },
 "nbformat": 4,
 "nbformat_minor": 2
}
